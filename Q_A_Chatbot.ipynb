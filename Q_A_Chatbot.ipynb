{
 "cells": [
  {
   "cell_type": "code",
   "execution_count": null,
   "metadata": {
    "id": "5loBFnC0HFmi"
   },
   "outputs": [],
   "source": [
    "!pip install -qU \\\n",
    "    langchain-pinecone==0.1.1 \\\n",
    "    langchain-openai==0.1.8 \\\n",
    "    langchain-text-splitters==0.2.0 \\\n",
    "    langchain==0.2.1 \\\n",
    "    pinecone-notebooks==0.1.1"
   ]
  },
  {
   "cell_type": "code",
   "execution_count": null,
   "metadata": {
    "id": "p0Ah9pMbHJcz"
   },
   "outputs": [],
   "source": [
    "import os, getpass\n",
    "os.environ[\"PINECONE_API_KEY\"] = getpass.getpass(\"PINECONE_API_KEY:\")\n",
    "api_key = os.environ.get(\"PINECONE_API_KEY\")"
   ]
  },
  {
   "cell_type": "code",
   "execution_count": null,
   "metadata": {
    "id": "FYjM2XgKHM-E"
   },
   "outputs": [],
   "source": [
    "import os, getpass\n",
    "os.environ[\"OPENAI_API_KEY\"] = getpass.getpass(\"OPENAI_API_KEY:\")"
   ]
  },
  {
   "cell_type": "code",
   "execution_count": null,
   "metadata": {
    "colab": {
     "base_uri": "https://localhost:8080/"
    },
    "id": "tVjJUSk2HQUg",
    "outputId": "521da82a-b2aa-4e54-ad56-393b51a22e9f"
   },
   "outputs": [],
   "source": [
    "#7/11\n",
    "%pip install -qU langchain_community pypdf"
   ]
  },
  {
   "cell_type": "code",
   "execution_count": null,
   "metadata": {
    "id": "nOszt_FnHTe_"
   },
   "outputs": [],
   "source": [
    "#7/11\n",
    "from langchain_community.document_loaders import PyPDFLoader\n",
    "\n",
    "file_path = (\n",
    "    \"/content/resume.pdf\"\n",
    ")\n",
    "\n",
    "loader = PyPDFLoader(file_path)\n",
    "pages = loader.load_and_split()"
   ]
  },
  {
   "cell_type": "code",
   "execution_count": null,
   "metadata": {
    "colab": {
     "base_uri": "https://localhost:8080/"
    },
    "collapsed": true,
    "id": "8N4zkFVnHW_2",
    "outputId": "7e80bb4a-8b20-41f1-ef42-fb2ae23dd822"
   },
   "outputs": [],
   "source": [
    "!pip install --upgrade langchain_openai"
   ]
  },
  {
   "cell_type": "code",
   "execution_count": null,
   "metadata": {
    "id": "CmFaV1UzHgUL"
   },
   "outputs": [],
   "source": [
    "from langchain_openai import OpenAIEmbeddings\n",
    "\n",
    "model_name = 'text-embedding-3-small'\n",
    "#model_name = 'text-embedding-3-large'\n",
    "\n",
    "\n",
    "embeddings = OpenAIEmbeddings(\n",
    "    model=model_name,\n",
    "    openai_api_key=os.environ.get('OPENAI_API_KEY')\n",
    ")"
   ]
  },
  {
   "cell_type": "code",
   "execution_count": null,
   "metadata": {
    "colab": {
     "base_uri": "https://localhost:8080/",
     "height": 349
    },
    "collapsed": true,
    "id": "t69mbPEUHiTM",
    "outputId": "ccf0e5ea-6df3-4d20-c903-064e707667a7"
   },
   "outputs": [],
   "source": [
    "from pinecone import Pinecone, ServerlessSpec\n",
    "\n",
    "pc = Pinecone(api_key=os.environ.get(\"PINECONE_API_KEY\"))"
   ]
  },
  {
   "cell_type": "code",
   "execution_count": null,
   "metadata": {
    "id": "KY_4dfuSHmDl"
   },
   "outputs": [],
   "source": [
    "\n",
    "cloud = os.environ.get('PINECONE_CLOUD') or 'aws'\n",
    "region = os.environ.get('PINECONE_REGION') or 'us-east-1'\n",
    "\n",
    "spec = ServerlessSpec(cloud=cloud, region=region)"
   ]
  },
  {
   "cell_type": "code",
   "execution_count": null,
   "metadata": {
    "id": "eFeEMPiMHqa5"
   },
   "outputs": [],
   "source": [
    "index_name = \"akshu123\""
   ]
  },
  {
   "cell_type": "code",
   "execution_count": null,
   "metadata": {
    "colab": {
     "base_uri": "https://localhost:8080/",
     "height": 211
    },
    "id": "vHqihhUnHvvi",
    "outputId": "2fc436f9-912c-4647-8d1a-d18e8a6e5e96"
   },
   "outputs": [],
   "source": [
    "import time\n",
    "\n",
    "if index_name not in pc.list_indexes().names():\n",
    "    pc.create_index(\n",
    "        name=index_name,\n",
    "        dimension=1536,\n",
    "        metric=\"cosine\",\n",
    "        spec=spec\n",
    "    )\n",
    "    # wait for index to be ready\n",
    "    while not pc.describe_index(index_name).status['ready']:\n",
    "        time.sleep(1)"
   ]
  },
  {
   "cell_type": "code",
   "execution_count": null,
   "metadata": {
    "colab": {
     "base_uri": "https://localhost:8080/",
     "height": 383
    },
    "id": "Z2n5x-XKH3LL",
    "outputId": "12f5567a-0523-43c5-fdfb-008f2953b390"
   },
   "outputs": [],
   "source": [
    "from langchain_pinecone import PineconeVectorStore\n",
    "\n",
    "namespace = \"ns0711\"\n",
    "\n",
    "\n",
    "docsearch = PineconeVectorStore.from_documents(\n",
    "#    documents=md_header_splits,\n",
    "    documents=pages, # 07/11\n",
    "    index_name=index_name,\n",
    "    embedding=embeddings,\n",
    "    namespace=namespace\n",
    ")"
   ]
  },
  {
   "cell_type": "code",
   "execution_count": null,
   "metadata": {
    "id": "SO9cei7rH8Qc"
   },
   "outputs": [],
   "source": [
    "index = pc.Index(index_name)\n",
    "\n",
    "for ids in index.list(namespace=namespace):\n",
    "    query = index.query(\n",
    "        id=ids[0],\n",
    "        namespace=namespace,\n",
    "        top_k=1,\n",
    "        include_values=True,\n",
    "        include_metadata=True\n",
    "    )\n",
    "    print(query)"
   ]
  },
  {
   "cell_type": "code",
   "execution_count": null,
   "metadata": {
    "id": "NEwO0CrcIBTL"
   },
   "outputs": [],
   "source": [
    "index = pc.Index(index_name)\n",
    "vector_store = PineconeVectorStore(index=index, embedding=embeddings,namespace=\"ns0711\")\n",
    "\n",
    "vector_store.embeddings"
   ]
  },
  {
   "cell_type": "code",
   "execution_count": null,
   "metadata": {
    "colab": {
     "base_uri": "https://localhost:8080/",
     "height": 211
    },
    "id": "nCGQPvXKIEoo",
    "outputId": "e88d7ad5-3c6b-4d7f-edee-2d5de3fc2cd1"
   },
   "outputs": [],
   "source": [
    "from langchain_openai import ChatOpenAI\n",
    "from langchain.chains import RetrievalQA\n",
    "\n",
    "llm = ChatOpenAI(\n",
    "    openai_api_key=os.environ.get('OPENAI_API_KEY'),\n",
    "  #  model_name='gpt-3.5-turbo',\n",
    "   model_name='gpt-4o-mini',\n",
    "    temperature=0.0\n",
    ")\n",
    "\n",
    "qa = RetrievalQA.from_chain_type(\n",
    "    llm=llm,\n",
    "    chain_type=\"stuff\",\n",
    "    retriever=vector_store.as_retriever()\n",
    ")"
   ]
  },
  {
   "cell_type": "code",
   "execution_count": null,
   "metadata": {
    "id": "pZ-q6LVhIHdz"
   },
   "outputs": [],
   "source": [
    "query1 = \"Where did she do her bachelor's degree?\n",
    "#multiple queries can be given"
   ]
  },
  {
   "cell_type": "code",
   "execution_count": null,
   "metadata": {
    "id": "wTOjCR5LIVst"
   },
   "outputs": [],
   "source": [
    "query1_with_knowledge = qa.invoke(query1)\n",
    "print(query1_with_knowledge[\"query\"],\"\\n\",query1_with_knowledge[\"result\"])\n",
    "print(\"\\n\\n\\n\")\n",
    "print('-------2---------')\n",
    "query1_without_knowledge = llm.invoke(query1)\n",
    "print(query1_without_knowledge)\n"
   ]
  },
  {
   "cell_type": "code",
   "execution_count": null,
   "metadata": {
    "colab": {
     "base_uri": "https://localhost:8080/",
     "height": 141
    },
    "id": "4sXLLUCYIaiK",
    "outputId": "5f47fddb-d027-4ccd-9b1f-61ab781e0b5f"
   },
   "outputs": [],
   "source": [
    "pc.delete_index(\"akshu123\")"
   ]
  },
  {
   "cell_type": "code",
   "execution_count": null,
   "metadata": {
    "id": "X5982DLSIgof"
   },
   "outputs": [],
   "source": [
    "pc.list_indexes()"
   ]
  },
  {
   "cell_type": "code",
   "execution_count": null,
   "metadata": {
    "id": "dcdl1fCDIeTd"
   },
   "outputs": [],
   "source": []
  }
 ],
 "metadata": {
  "colab": {
   "provenance": []
  },
  "kernelspec": {
   "display_name": "Python 3",
   "name": "python3"
  },
  "language_info": {
   "name": "python"
  }
 },
 "nbformat": 4,
 "nbformat_minor": 0
}
